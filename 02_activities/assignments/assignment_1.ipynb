{
 "cells": [
  {
   "cell_type": "markdown",
   "metadata": {},
   "source": [
    "# Coding Problems\n",
    "\n",
    "## Objective\n",
    "\n",
    "This assignment aims to demonstrate how to study a data structures or algorithms question in depth to prepare for an industry coding interview. Leetcode is a popular coding practice site that many use to practice for technical interviews. Like behavioral interviews, it's important to practice and keep your skills sharp.\n",
    "\n",
    "## Group Size\n",
    "\n",
    "Please complete this individually.\n",
    "\n",
    "## Parts:\n",
    "- Part 1: Figure out the problem you have been assigned, and understand the problem\n",
    "- Part 2: Answer the questions about your assigned problem (including solving it)\n",
    "\n",
    "## Part 1:\n",
    "\n",
    "_*You will be assigned one of three problems based of your first name. Enter your first name, in all lower case, execute the code below, and that will tell you your assigned problem. Include the output as part of your submission (do not clear the output). The problems are based-off problems from Leetcode.*_\n"
   ]
  },
  {
   "cell_type": "code",
   "execution_count": 29,
   "metadata": {},
   "outputs": [
    {
     "name": "stdout",
     "output_type": "stream",
     "text": [
      "1\n"
     ]
    }
   ],
   "source": [
    "import hashlib\n",
    "\n",
    "def hash_to_range(input_string: str) -> int:\n",
    "     hash_object = hashlib.sha256(input_string.encode())\n",
    "     hash_int = int(hash_object.hexdigest(), 16)\n",
    "     return (hash_int % 3) + 1\n",
    "# input_string = \"your_first_name_here\"\n",
    "input_string = \"md\"\n",
    "result = hash_to_range(input_string)\n",
    "print(result)\n"
   ]
  },
  {
   "cell_type": "markdown",
   "metadata": {},
   "source": [
    "## Question One: First Duplicate in List\n",
    "**Description**  \n",
    "Given a list of integers, return the **first value that appears more than once**. If there are multiple duplicates, return the one that appears **first** in the list. If no duplicate exists, return `-1`.\n",
    "\n",
    "**Examples**\n",
    "```python\n",
    "Input: nums = [3, 1, 4, 2, 5, 1, 6]\n",
    "Output: 1\n",
    "```\n",
    "```python\n",
    "Input: nums = [7, 8, 9, 10]\n",
    "Output: -1\n",
    "```\n",
    "```python\n",
    "Input: nums = [4, 5, 6, 4, 6]\n",
    "Output: 4\n",
    "```\n",
    "\n",
    "**Question 1 Starter Code**"
   ]
  },
  {
   "cell_type": "code",
   "execution_count": null,
   "metadata": {},
   "outputs": [
    {
     "name": "stdout",
     "output_type": "stream",
     "text": [
      "1 -1 4\n"
     ]
    }
   ],
   "source": [
    "from typing import List\n",
    "\n",
    "def first_duplicate(nums: List[int]) -> int:\n",
    "    # TODO\n",
    "    pass"
   ]
  },
  {
   "cell_type": "markdown",
   "metadata": {},
   "source": [
    "## Question Two: Valid Bracket Sequence\n",
    "**Description**  \n",
    "Given a string containing only the characters `'('`, `')'`, `'{'`, `'}'`, `'['`, and `']'`, determine if the input string is a **valid bracket sequence**.  \n",
    "A string is valid if:\n",
    "- Open brackets are closed by the same type of brackets, and\n",
    "- Open brackets are closed in the correct order.\n",
    "\n",
    "**Examples**\n",
    "```python\n",
    "Input: s = \"([]{})\"\n",
    "Output: True\n",
    "```\n",
    "```python\n",
    "Input: s = \"([)]\"\n",
    "Output: False\n",
    "```\n",
    "```python\n",
    "Input: s = \"()[]{}\"\n",
    "Output: True\n",
    "```\n",
    "```python\n",
    "Input: s = \"[{]}\"\n",
    "Output: False\n",
    "```\n",
    "\n",
    "**Question 2 Starter Code**"
   ]
  },
  {
   "cell_type": "code",
   "execution_count": 20,
   "metadata": {},
   "outputs": [],
   "source": [
    "def is_valid_brackets(s: str) -> bool:\n",
    "    # TODO\n",
    "    pass"
   ]
  },
  {
   "cell_type": "markdown",
   "metadata": {},
   "source": [
    "## Question Three: Move All Zeros to End\n",
    "**Description**  \n",
    "Given a list of integers, move all zeros to the end while maintaining the relative order of the non-zero elements. \n",
    "\n",
    "**Examples**\n",
    "```python\n",
    "Input: nums = [0, 1, 0, 3, 12]\n",
    "Output: [1, 3, 12, 0, 0]\n",
    "```\n",
    "```python\n",
    "Input: nums = [4, 0, 5, 0, 0, 6]\n",
    "Output: [4, 5, 6, 0, 0, 0]\n",
    "```\n"
   ]
  },
  {
   "cell_type": "code",
   "execution_count": 21,
   "metadata": {},
   "outputs": [],
   "source": [
    "from typing import List\n",
    "\n",
    "def move_zeros_to_end(nums: List[int]) -> List[int]:\n",
    "    # TODO\n",
    "    pass"
   ]
  },
  {
   "cell_type": "markdown",
   "metadata": {},
   "source": [
    "\n",
    "## Part 2:\n",
    "\n",
    "-   Paraphrase the problem in your own words\n"
   ]
  },
  {
   "cell_type": "code",
   "execution_count": 22,
   "metadata": {},
   "outputs": [],
   "source": [
    "# Your answer here"
   ]
  },
  {
   "cell_type": "markdown",
   "metadata": {},
   "source": [
    "Write a function that takes a list of integers as input. If the list has any repeated numbers i.e. duplicates, return the first one that repeats i.e. duplicate (based on the order they appear in the list). If there are no duplicates, return -1."
   ]
  },
  {
   "cell_type": "markdown",
   "metadata": {},
   "source": [
    "- In this .ipynb file, there are examples that illustrate how the code should work (the examples provided above). Create 2 new examples for the question you have been assigned, that demonstrate you understand the problem. For question 1 and 2, you don't need to create the tree demonstration, just the input and output.\n"
   ]
  },
  {
   "cell_type": "code",
   "execution_count": 23,
   "metadata": {},
   "outputs": [],
   "source": [
    "# Your answer here"
   ]
  },
  {
   "cell_type": "markdown",
   "metadata": {},
   "source": [
    "Input: example_list_1 = [1, 2, 1, 2, 3, 0, 4] \n",
    "Output: 1\n",
    "\n",
    "Input: example_list_2 = [5, 2, 2, 5, 3, 0, 4] \n",
    "Output: 2"
   ]
  },
  {
   "cell_type": "markdown",
   "metadata": {},
   "source": [
    "\n",
    "-   Code the solution to your assigned problem in Python (code chunk). Note: each problem can be solved more simply if you use an abstract data type that is suitable for that problem. Using that try to find the best time and space complexity solution!\n"
   ]
  },
  {
   "cell_type": "code",
   "execution_count": 24,
   "metadata": {},
   "outputs": [],
   "source": [
    "# Your answer here\n",
    "from typing import List\n",
    "\n",
    "def first_duplicate(nums: List[int]) -> int:\n",
    "    seen = set()\n",
    "    for num in nums:\n",
    "        if num in seen:\n",
    "            return num\n",
    "        seen.add(num)\n",
    "    return -1\n",
    "\n",
    "# check\n",
    "# nums1 = [3, 1, 4, 2, 5, 1, 6]\n",
    "# nums2 = [7, 8, 9, 10]\n",
    "# nums3 = [4, 5, 6, 4, 6]\n",
    "# result1 = first_duplicate(nums1)\n",
    "# result2 = first_duplicate(nums2)\n",
    "# result3 = first_duplicate(nums3)\n",
    "# print(result1, result2, result3) # should print 1, -1, 4\n",
    "\n",
    "\n",
    "# example_list_1 = [1, 2, 1, 2, 3, 0, 4]\n",
    "# example_list_2 = [5, 2, 2, 5, 3, 0, 4]\n",
    "# result1 = first_duplicate(example_list_1)\n",
    "# result2 = first_duplicate(example_list_2)\n",
    "# print(result1)  # should print 1\n",
    "# print(result2)  # should print 2"
   ]
  },
  {
   "cell_type": "markdown",
   "metadata": {},
   "source": [
    "\n",
    "-   Explain why your solution works\n"
   ]
  },
  {
   "cell_type": "code",
   "execution_count": 25,
   "metadata": {},
   "outputs": [],
   "source": [
    "# Your answer here"
   ]
  },
  {
   "cell_type": "markdown",
   "metadata": {},
   "source": [
    "The solution works because the function satisfies the condition that was asked in the question. The confiotion was looking for duplicates, and if there are no duplicates then returning -1. There was also another condition that in case of multiple duplicates, we need to return the first one based on the order they appear in the given input list of integers. In this case, we start with an empty set. Then, we go through each number in the list one by one using a for loop.\n",
    "- If a number is already in the set, that means it’s a duplicate. So, we return that number right away.\n",
    "- If it’s not in the set, we add it to the set and move on to the next number in the list.\n",
    "If we go through the whole list without finding any duplicates, we return -1 at the end.\n",
    "\n",
    "This method is efficient because checking if something is in a set is relatively fast on average, it takes the same amount of time no matter how big the set is. That means the total time the function takes depends on how many numbers are in the list i.e. linear time complexity.\n"
   ]
  },
  {
   "cell_type": "markdown",
   "metadata": {},
   "source": [
    "\n",
    "-   Explain the problem’s time and space complexity\n"
   ]
  },
  {
   "cell_type": "code",
   "execution_count": 26,
   "metadata": {},
   "outputs": [],
   "source": [
    "# Your answer here"
   ]
  },
  {
   "cell_type": "markdown",
   "metadata": {},
   "source": [
    "The solution is of O(n) complexity for both time and space. The reason being as we are using `set` data structure it takes constant time for each check. So for the time complexity, in the worst case scenario, the function takes linear time to check all the numbers which depends on the number of elements in the list i.e. for n number of elements the time complexity would be O(n)\n",
    "\n",
    "Now for space complexity, in the worst case scenario where there are no duplicates and the function has to check all the numbers in the list, the set stores all the numbers so the space usage grows with the size of the list i.e. all n number of elements has to be stored, therefore, the time complexity is also O(n)"
   ]
  },
  {
   "cell_type": "markdown",
   "metadata": {},
   "source": [
    "\n",
    "-   Explain the thinking to an alternative solution (no coding required, but a classmate reading this should be able to code it up based off your text)\n"
   ]
  },
  {
   "cell_type": "code",
   "execution_count": 27,
   "metadata": {},
   "outputs": [],
   "source": [
    "# Your answer here"
   ]
  },
  {
   "cell_type": "markdown",
   "metadata": {},
   "source": [
    "- Write a function that takes a list of integers as input.\n",
    "- If the list has any repeated numbers i.e. duplicates, return the first one that repeats\n",
    "- Check each number of the list inside the function to see if it appears again later in the list.\n",
    " Please use anything else but `set` for the data structure. Maybe use `list` or `dictionary (key: value)`\n",
    "- If a number is found more than once, store it in a separate list to keep track of duplicates.\n",
    "- If a duplicate is found, return that number.\n",
    "- Otherwise, keep checking all numbers in the list.\n",
    "- At the end:\n",
    "- If there's only one duplicate, return that number.\n",
    "- If there are multiple duplicates, return the first one found.\n",
    "- If there are no duplicates, return -1."
   ]
  },
  {
   "cell_type": "markdown",
   "metadata": {},
   "source": [
    "## Evaluation Criteria\n",
    "\n",
    "-   Problem is accurately stated\n",
    "\n",
    "-   Two examples are correct and easily understandable\n",
    "\n",
    "-   Correctness, time, and space complexity of the coding solution\n",
    "\n",
    "-   Clarity in explaining why the solution works, its time and space complexity\n",
    "\n",
    "-   Clarity in the proposal to the alternative solution"
   ]
  },
  {
   "cell_type": "markdown",
   "metadata": {},
   "source": [
    "## Submission Information\n",
    "\n",
    "🚨 **Please review our [Assignment Submission Guide](https://github.com/UofT-DSI/onboarding/blob/main/onboarding_documents/submissions.md)** 🚨 for detailed instructions on how to format, branch, and submit your work. Following these guidelines is crucial for your submissions to be evaluated correctly.\n",
    "\n",
    "### Submission Parameters:\n",
    "* Submission Due Date: `HH:MM AM/PM - DD/MM/YYYY`\n",
    "* The branch name for your repo should be: `assignment-1`\n",
    "* What to submit for this assignment:\n",
    "    * This Jupyter Notebook (assignment_1.ipynb) should be populated and should be the only change in your pull request.\n",
    "* What the pull request link should look like for this assignment: `https://github.com/<your_github_username>/algorithms_and_data_structures/pull/<pr_id>`\n",
    "    * Open a private window in your browser. Copy and paste the link to your pull request into the address bar. Make sure you can see your pull request properly. This helps the technical facilitator and learning support staff review your submission easily.\n",
    "\n",
    "Checklist:\n",
    "- [X] Create a branch called `assignment-1`.\n",
    "- [X] Ensure that the repository is public.\n",
    "- [X] Review [the PR description guidelines](https://github.com/UofT-DSI/onboarding/blob/main/onboarding_documents/submissions.md#guidelines-for-pull-request-descriptions) and adhere to them.\n",
    "- [X] Verify that the link is accessible in a private browser window.\n",
    "\n",
    "If you encounter any difficulties or have questions, please don't hesitate to reach out to our team via our Slack at `#cohort-3-help`. Our Technical Facilitators and Learning Support staff are here to help you navigate any challenges."
   ]
  }
 ],
 "metadata": {
  "kernelspec": {
   "display_name": "Python 3",
   "language": "python",
   "name": "python3"
  },
  "language_info": {
   "codemirror_mode": {
    "name": "ipython",
    "version": 3
   },
   "file_extension": ".py",
   "mimetype": "text/x-python",
   "name": "python",
   "nbconvert_exporter": "python",
   "pygments_lexer": "ipython3",
   "version": "3.9.15"
  }
 },
 "nbformat": 4,
 "nbformat_minor": 4
}
