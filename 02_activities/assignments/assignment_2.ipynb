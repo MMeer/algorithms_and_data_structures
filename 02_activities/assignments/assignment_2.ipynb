{
 "cells": [
  {
   "cell_type": "markdown",
   "metadata": {},
   "source": [
    "# Practice Interview\n",
    "\n",
    "## Objective\n",
    "\n",
    "_*The partner assignment aims to provide participants with the opportunity to practice coding in an interview context. You will analyze your partner's Assignment 1. Moreover, code reviews are common practice in a software development team. This assignment should give you a taste of the code review process.*_\n",
    "\n",
    "## Group Size\n",
    "\n",
    "Each group should have 2 people. You will be assigned a partner\n",
    "\n",
    "## Parts:\n",
    "- Part 1: Complete 1 of 3 questions\n",
    "- Part 2: Review your partner's Assignment 1 submission\n",
    "- Part 3: Perform code review of your partner's assignment 1 by answering the questions below\n",
    "- Part 3: Reflect on Assignment 1 and Assignment 2\n",
    "\n",
    "## Part 1:\n",
    "\n",
    "_*You will be assigned one of three problems based of your first name. Enter your first name, in all lower case, execute the code below, and that will tell you your assigned problem. Include the output as part of your submission (do not clear the output). The problems are based-off problems from Leetcode.*_"
   ]
  },
  {
   "cell_type": "code",
   "execution_count": 30,
   "metadata": {},
   "outputs": [
    {
     "name": "stdout",
     "output_type": "stream",
     "text": [
      "1\n"
     ]
    }
   ],
   "source": [
    "import hashlib\n",
    "\n",
    "def hash_to_range(input_string: str) -> int:\n",
    "     hash_object = hashlib.sha256(input_string.encode())\n",
    "     hash_int = int(hash_object.hexdigest(), 16)\n",
    "     return (hash_int % 3) + 1\n",
    "# input_string = \"your_first_name_here\"\n",
    "input_string = \"md\"\n",
    "result = hash_to_range(input_string)\n",
    "print(result)\n"
   ]
  },
  {
   "cell_type": "markdown",
   "metadata": {},
   "source": [
    "<details>\n",
    "  <summary>Question 1</summary>\n",
    "\n",
    "  # Question One: Check Duplicates in Tree\n",
    "\n",
    "  Given the `root` of a binary tree, check whether it is contains a duplicate value. If a duplicate exists, return the duplicate value. If there are multiple duplicates, return the one with the closest distance to the root. If no duplicate exists, return -1.\n",
    "\n",
    "  ## Examples\n",
    "\n",
    "  ### Example 1\n",
    "\n",
    "  ![](./images/q1_ex1.png)\n",
    "\n",
    "  Input: `root = [1, 2, 2, 3, 5, 6, 7]` *What traversal method is this?*  - BFS Traversal\n",
    "\n",
    "  Output: 2\n",
    "\n",
    "  ### Example 2\n",
    "\n",
    "  ![](./images/q1_ex2.png)\n",
    "\n",
    "  Input: `root = [1, 10, 2, 3, 10, 12, 12]`\n",
    "\n",
    "  Output: 10\n",
    "\n",
    "  ### Example 3\n",
    "\n",
    "  ![](./images/q1_ex3.png)\n",
    "\n",
    "  Input: `root = [10, 9, 8, 7]`\n",
    "\n",
    "  Output: -1\n",
    "\n",
    "</details>\n",
    "\n",
    "#### Starter Code for Question 1"
   ]
  },
  {
   "cell_type": "code",
   "execution_count": 31,
   "metadata": {},
   "outputs": [
    {
     "name": "stdout",
     "output_type": "stream",
     "text": [
      "2\n",
      "10\n",
      "-1\n"
     ]
    }
   ],
   "source": [
    "# Definition for a binary tree node.\n",
    "class TreeNode(object):\n",
    "    def __init__(self, val = 0, left = None, right = None):\n",
    "        self.val = val\n",
    "        self.left = left\n",
    "        self.right = right\n",
    "\n",
    "def is_duplicate(root: TreeNode) -> int:\n",
    "  # handle the case where the tree is empty\n",
    "  if root is None: \n",
    "      return -1\n",
    "  \n",
    "  # list to keep track of seen values\n",
    "  seen_values = [] \n",
    "  \n",
    "  # initialize the queue with the root node\n",
    "  queue = [root] \n",
    "  \n",
    "  # perform a breadth-first search to traverse the tree level by level\n",
    "  while queue:\n",
    "      current_node = queue.pop(0)\n",
    "      \n",
    "      if current_node.val in seen_values:\n",
    "          return current_node.val\n",
    "\n",
    "      seen_values.append(current_node.val)\n",
    "      \n",
    "      if current_node.left is not None:\n",
    "          queue.append(current_node.left)\n",
    "      \n",
    "      if current_node.right is not None:\n",
    "          queue.append(current_node.right)\n",
    "  \n",
    "  # if no duplicates are found, return -1\n",
    "  return -1\n",
    "\n",
    "# Helper function to build a binary tree from a list (BFS order)\n",
    "def build_tree(lst):\n",
    "    if not lst:\n",
    "        return None\n",
    "    nodes = [TreeNode(val) if val is not None else None for val in lst]\n",
    "    childs = nodes[::-1]\n",
    "    root = childs.pop()\n",
    "    for node in nodes:\n",
    "        if node:\n",
    "            if childs: node.left = childs.pop()\n",
    "            if childs: node.right = childs.pop()\n",
    "    return root\n",
    "\n",
    "# Example usage:\n",
    "root_1 = [1, 2, 2, 3, 5, 6, 7]\n",
    "root_2 = [1, 10, 2, 3, 10, 12, 12]\n",
    "root_3 = [10, 9, 8, 7]\n",
    "tree_root_1 = build_tree(root_1)\n",
    "tree_root_2 = build_tree(root_2)\n",
    "tree_root_3 = build_tree(root_3)\n",
    "\n",
    "# Test the function with the provided example\n",
    "print(is_duplicate(tree_root_1)) # output should be 2\n",
    "print(is_duplicate(tree_root_2)) # output should be 10\n",
    "print(is_duplicate(tree_root_3)) # output should be -1 (no duplicates)\n"
   ]
  },
  {
   "cell_type": "markdown",
   "metadata": {},
   "source": [
    "<details>\n",
    "  <summary>Question 2</summary>\n",
    "\n",
    "  # Question Two: Path to Leaves\n",
    "\n",
    "  Given the `root` of a binary tree, return all root to leaf paths in any order.\n",
    "\n",
    "  ## Examples\n",
    "\n",
    "  ### Example 1\n",
    "\n",
    "  ![](./images/q1_ex1.png)\n",
    "\n",
    "  Input: `root = [1, 2, 2, 3, 5, 6, 7]` *What traversal method is this?*\n",
    "\n",
    "  Output: [[1, 2, 3], [1, 2, 5], [1, 2, 6], [1, 2, 7]]\n",
    "\n",
    "  ### Example 2\n",
    "\n",
    "  ![](./images/q1_ex3.png)\n",
    "\n",
    "  Input: `root = [10, 9, 7, 8]`\n",
    "\n",
    "  Output: [[10, 7], [10, 9, 8]]\n",
    "\n",
    "</details>\n",
    "\n",
    "#### Starter Code for Question 2"
   ]
  },
  {
   "cell_type": "code",
   "execution_count": 32,
   "metadata": {},
   "outputs": [],
   "source": [
    "# Definition for a binary tree node.\n",
    "# class TreeNode(object):\n",
    "#     def __init__(self, val = 0, left = None, right = None):\n",
    "#         self.val = val\n",
    "#         self.left = left\n",
    "#         self.right = right\n",
    "# def bt_path(root: TreeNode) -> List[List[int]]:\n",
    "#   # TODO"
   ]
  },
  {
   "cell_type": "markdown",
   "metadata": {},
   "source": [
    "<details>\n",
    "  <summary>Question 3</summary>\n",
    "\n",
    "  # Question Three: Missing Number in Range\n",
    " \n",
    "  You are given a list containing `n` integers in the range `[0, n]`. Return a list of numbers that are missing from the range `[0, n]` of the array. If there is no missing number, return -1. Note, all the integers in the list may not be unique.\n",
    "  \n",
    "  ## Examples\n",
    "\n",
    "  ### Example 1\n",
    "\n",
    "  Input: `lst = [0, 2]`\n",
    "\n",
    "  Output: [1]\n",
    "\n",
    "  ### Example 2\n",
    "\n",
    "  Input: `lst = [5, 0, 1]`\n",
    "\n",
    "  Output: [2, 3, 4]\n",
    "\n",
    "  ### Example 3\n",
    "\n",
    "  Input: `lst = [6, 8, 2, 3, 5, 7, 0, 1, 10]`\n",
    "\n",
    "  Output: [4, 9]\n",
    "\n",
    "</details>\n",
    "\n",
    "#### Starter Code for Question 3\n"
   ]
  },
  {
   "cell_type": "code",
   "execution_count": 33,
   "metadata": {
    "scrolled": true
   },
   "outputs": [],
   "source": [
    "# def missing_num(nums: List) -> int:\n",
    "#   # TODO"
   ]
  },
  {
   "cell_type": "markdown",
   "metadata": {
    "jp-MarkdownHeadingCollapsed": true
   },
   "source": [
    "## Part 2:\n",
    "\n",
    "You and your partner must share each other's Assignment 1 submission."
   ]
  },
  {
   "cell_type": "markdown",
   "metadata": {},
   "source": [
    "\n",
    "## Part 3:\n",
    "\n",
    "Create a Jupyter Notebook, create 6 of the following headings, and complete the following for your partner's assignment 1:\n",
    "\n",
    "-   Paraphrase the problem in your own words.\n"
   ]
  },
  {
   "cell_type": "code",
   "execution_count": 34,
   "metadata": {},
   "outputs": [],
   "source": [
    "# Your answer here\n",
    "\n",
    "## Praraphrase:\n",
    "# Write a function that takes a string as input.\n",
    "# The string can only include the following characters: \n",
    "# '(', ')', '{', '}', '[', and ']'.\n",
    "# The function should return True if the string contains \n",
    "# valid parentheses in correct order and matching pairs.\n",
    "# Otherwise, it should return False.\n"
   ]
  },
  {
   "cell_type": "markdown",
   "metadata": {},
   "source": [
    "\n",
    "-   Create 1 new example that demonstrates you understand the problem. Trace/walkthrough 1 example that your partner made and explain it.\n"
   ]
  },
  {
   "cell_type": "code",
   "execution_count": 35,
   "metadata": {},
   "outputs": [],
   "source": [
    "# Your answer here\n",
    "# example_string_1 = \"({[]})\"\n",
    "# output = True\n",
    "\n",
    "# example_string_2 = \"(]]]]{{{[})\"\n",
    "# output = False"
   ]
  },
  {
   "cell_type": "markdown",
   "metadata": {},
   "source": [
    "\n",
    "-   Copy the solution your partner wrote. \n"
   ]
  },
  {
   "cell_type": "code",
   "execution_count": 36,
   "metadata": {},
   "outputs": [
    {
     "data": {
      "text/plain": [
       "True"
      ]
     },
     "execution_count": 36,
     "metadata": {},
     "output_type": "execute_result"
    }
   ],
   "source": [
    "# Your answer here\n",
    "s = \"({[]})\"\n",
    "open_brackets = [\"(\", \"[\", \"{\"]\n",
    "close_brackets = [\")\", \"]\", \"}\"]\n",
    "\n",
    "def is_valid_brackets(s: str) -> bool:\n",
    "    if not s:\n",
    "        return True\n",
    "    if len(s) % 2 != 0:\n",
    "        return False\n",
    "    elif s[0] in close_brackets:\n",
    "        return False\n",
    "    \n",
    "    bracket_stack = []\n",
    "\n",
    "    for bracket in s:\n",
    "        if bracket in open_brackets:\n",
    "            bracket_stack.append(bracket)\n",
    "        elif bracket in close_brackets:\n",
    "            if not bracket_stack:\n",
    "                return False\n",
    "            elif close_brackets.index(bracket) == open_brackets.index(bracket_stack[-1]):\n",
    "                bracket_stack.pop()\n",
    "            else:\n",
    "                return False\n",
    "    \n",
    "    if len(bracket_stack) == 0:\n",
    "            return True\n",
    "    else:\n",
    "         return False\n",
    "                     \n",
    "\n",
    "is_valid_brackets(s)\n",
    "\n",
    "# #Quick Checks\n",
    "# example_string_1 = \"({[]})\"\n",
    "# print(is_valid_brackets(example_string_1))  # Output: should be True\n",
    "\n",
    "# example_string_2 = \"(]]]]{{{[})\"\n",
    "# print(is_valid_brackets(example_string_2))  # Output: should be False\n"
   ]
  },
  {
   "cell_type": "markdown",
   "metadata": {},
   "source": [
    "\n",
    "-   Explain why their solution works in your own words.\n"
   ]
  },
  {
   "cell_type": "code",
   "execution_count": 37,
   "metadata": {},
   "outputs": [],
   "source": [
    "# Your answer here\n",
    "# Considering the problem, I think using stack is a good option for this problem as used in the solution above. The reason\n",
    "# being stack data structure mimics the Last In First Out (LIFO) principle, which is suitable for matching pairs of brackets. \n",
    "# I would suggest using a dictionary though which I think would make the solution more efficient.\n",
    "# the solution also handles the edge cases of mismatched brackets and empty strings.\n",
    "# we know that brackets comes in pairs, opening and closing, and the soultion checks for even length which makes sense from that perspective.\n"
   ]
  },
  {
   "cell_type": "markdown",
   "metadata": {},
   "source": [
    "\n",
    "-   Explain the problem’s time and space complexity in your own words.\n"
   ]
  },
  {
   "cell_type": "code",
   "execution_count": 38,
   "metadata": {},
   "outputs": [],
   "source": [
    "# Your answer here\n",
    "# Considering the problem, I believe the time and space complexity of the solution is O(n) for both time and space.\n",
    "# Since all operations inside the loop are O(1) and the loop runs n times, the overall time complexity is O(n)\n",
    "# The space complexity of the algorithm is O(n) in the worst case. Reason being the algorithm uses a stack (bracket_stack) to keep track \n",
    "# of the open brackets. In the worst case scenario, all characters in the string are open brackets, and they all get pushed onto the stack. \n",
    "# So, the space required by the stack can be proportional to the length of the input string."
   ]
  },
  {
   "cell_type": "markdown",
   "metadata": {},
   "source": [
    "\n",
    "-   Critique your partner's solution, including explanation, and if there is anything that should be adjusted.\n"
   ]
  },
  {
   "cell_type": "code",
   "execution_count": 39,
   "metadata": {},
   "outputs": [],
   "source": [
    "# Your answer here\n",
    "# I think the solution is pretty good. The only suggestion I would make is to use a dictionary to store the pairs of brackets instead \n",
    "# of two separate lists. This would make the code cleaner and more efficient, as you can directly access the matching bracket for a \n",
    "# given opening bracket without needing to search through a list. The solution also handles the edge cases of mismatched brackets and \n",
    "# empty strings which is fantastic. Overall, I would say this is well done!"
   ]
  },
  {
   "cell_type": "markdown",
   "metadata": {},
   "source": [
    "\n",
    "## Part 4:\n",
    "\n",
    "Please write a 200 word reflection documenting your process from assignment 1, and your presentation and review experience with your partner at the bottom of the Jupyter Notebook under a new heading \"Reflection.\" Again, export this Notebook as pdf.\n"
   ]
  },
  {
   "cell_type": "markdown",
   "metadata": {},
   "source": [
    "### Reflection"
   ]
  },
  {
   "cell_type": "code",
   "execution_count": 40,
   "metadata": {},
   "outputs": [],
   "source": [
    "# Your answer here\n",
    "# I enjoyed working on assignent 1 as I brushed up on some of the core concepts in ds and algo. \n",
    "# I also enjoyed reviewewing the solution of my partner for assignment 1. \n",
    "# For the review problem, it was for a different problem which I found interesting. I also loved going through the solution \n",
    "# to understand their thought process and how they approached the problem. It was a great learning experience for me, \n",
    "# and I appreciated the opportunity."
   ]
  },
  {
   "cell_type": "markdown",
   "metadata": {},
   "source": [
    "\n",
    "## Evaluation Criteria\n",
    "\n",
    "We are looking for the similar points as Assignment 1\n",
    "\n",
    "-   Problem is accurately stated\n",
    "\n",
    "-   New example is correct and easily understandable\n",
    "\n",
    "-   Correctness, time, and space complexity of the coding solution\n",
    "\n",
    "-   Clarity in explaining why the solution works, its time and space complexity\n",
    "\n",
    "-   Quality of critique of your partner's assignment, if necessary\n"
   ]
  },
  {
   "cell_type": "markdown",
   "metadata": {},
   "source": [
    "## Submission Information\n",
    "\n",
    "🚨 **Please review our [Assignment Submission Guide](https://github.com/UofT-DSI/onboarding/blob/main/onboarding_documents/submissions.md)** 🚨 for detailed instructions on how to format, branch, and submit your work. Following these guidelines is crucial for your submissions to be evaluated correctly.\n",
    "\n",
    "### Submission Parameters:\n",
    "* Submission Due Date: `HH:MM AM/PM - DD/MM/YYYY`\n",
    "* The branch name for your repo should be: `assignment-2`\n",
    "* What to submit for this assignment:\n",
    "    * This Jupyter Notebook (assignment_2.ipynb) should be populated and should be the only change in your pull request.\n",
    "* What the pull request link should look like for this assignment: `https://github.com/<your_github_username>/algorithms_and_data_structures/pull/<pr_id>`\n",
    "    * Open a private window in your browser. Copy and paste the link to your pull request into the address bar. Make sure you can see your pull request properly. This helps the technical facilitator and learning support staff review your submission easily.\n",
    "\n",
    "Checklist:\n",
    "- [X] Created a branch with the correct naming convention.\n",
    "- [X] Ensured that the repository is public.\n",
    "- [X] Reviewed the PR description guidelines and adhered to them.\n",
    "- [X] Verify that the link is accessible in a private browser window.\n",
    "\n",
    "If you encounter any difficulties or have questions, please don't hesitate to reach out to our team via our Slack at `#cohort-6-help`. Our Technical Facilitators and Learning Support staff are here to help you navigate any challenges.\n"
   ]
  },
  {
   "cell_type": "code",
   "execution_count": null,
   "metadata": {},
   "outputs": [],
   "source": []
  }
 ],
 "metadata": {
  "kernelspec": {
   "display_name": "Python 3",
   "language": "python",
   "name": "python3"
  },
  "language_info": {
   "codemirror_mode": {
    "name": "ipython",
    "version": 3
   },
   "file_extension": ".py",
   "mimetype": "text/x-python",
   "name": "python",
   "nbconvert_exporter": "python",
   "pygments_lexer": "ipython3",
   "version": "3.9.15"
  }
 },
 "nbformat": 4,
 "nbformat_minor": 4
}
